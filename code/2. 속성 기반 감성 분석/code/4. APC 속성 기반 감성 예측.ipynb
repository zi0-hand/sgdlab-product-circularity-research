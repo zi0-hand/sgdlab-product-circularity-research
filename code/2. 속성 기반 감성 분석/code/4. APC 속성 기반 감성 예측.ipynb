{
 "cells": [
  {
   "cell_type": "code",
   "execution_count": 19,
   "id": "0813fbc5",
   "metadata": {},
   "outputs": [],
   "source": [
    "import pickle\n",
    "import pandas as pd\n",
    "import numpy as np\n",
    "from tqdm import tqdm\n",
    "\n",
    "from IPython.core.interactiveshell import InteractiveShell\n",
    "InteractiveShell.ast_node_interactivity = \"all\""
   ]
  },
  {
   "cell_type": "code",
   "execution_count": 5,
   "id": "b48e61bb",
   "metadata": {},
   "outputs": [],
   "source": [
    "import os\n",
    "os.chdir('/Users/sonjiyeong/Documents/랩실 프로젝트/스마트폰 리뷰마이닝/output')"
   ]
  },
  {
   "cell_type": "code",
   "execution_count": 2,
   "id": "36a4efb4",
   "metadata": {
    "scrolled": true
   },
   "outputs": [
    {
     "name": "stdout",
     "output_type": "stream",
     "text": [
      "GPU 장치: /device:GPU:0\n"
     ]
    },
    {
     "name": "stderr",
     "output_type": "stream",
     "text": [
      "2024-05-19 23:06:39.848576: I metal_plugin/src/device/metal_device.cc:1154] Metal device set to: Apple M2\n",
      "2024-05-19 23:06:39.848600: I metal_plugin/src/device/metal_device.cc:296] systemMemory: 16.00 GB\n",
      "2024-05-19 23:06:39.848605: I metal_plugin/src/device/metal_device.cc:313] maxCacheSize: 5.33 GB\n",
      "2024-05-19 23:06:39.848685: I tensorflow/core/common_runtime/pluggable_device/pluggable_device_factory.cc:303] Could not identify NUMA node of platform GPU ID 0, defaulting to 0. Your kernel may not have been built with NUMA support.\n",
      "2024-05-19 23:06:39.848944: I tensorflow/core/common_runtime/pluggable_device/pluggable_device_factory.cc:269] Created TensorFlow device (/device:GPU:0 with 0 MB memory) -> physical PluggableDevice (device: 0, name: METAL, pci bus id: <undefined>)\n"
     ]
    }
   ],
   "source": [
    "import tensorflow as tf\n",
    "\n",
    "# GPU 사용 설정\n",
    "device_name = tf.test.gpu_device_name()\n",
    "if not tf.config.list_physical_devices('GPU'):\n",
    "    print(\"GPU를 찾을 수 없습니다. 런타임 유형을 GPU로 변경해주세요.\")\n",
    "else:\n",
    "    print(f\"GPU 장치: {device_name}\")"
   ]
  },
  {
   "cell_type": "markdown",
   "id": "97f11e96",
   "metadata": {},
   "source": [
    "# 1. 훈련 데이터셋 구축\n",
    "- 목적 : 이후 APC (속성 기반 감성 예측) 모델이 속성을 식별할 수 있도록 속성 단어 앞뒤에 문자 ([B-ASP], [E-ASP]) 추가\n",
    "- 예시 : battery life is great for me -> [B-ASP]battery life[E-ASP] is great for me\n",
    "- 처리 프로세스\n",
    "    1. 토큰화된 리스트의 단어 중 속성 사전에 있는 단어가 포함되는지 확인\n",
    "    2. 속성 사전에 정의된 단어인 경우 단어의 앞뒤에 [B-ASP], [E-ASP] 추가\n",
    "    3. 토큰화된 리스트를 띄어쓰기로 이어서 문장으로 재구성 (APC 모델에서 문장을 토큰화해주는 기능이 포함되어 있기 때문)"
   ]
  },
  {
   "cell_type": "code",
   "execution_count": 6,
   "id": "69f204e4",
   "metadata": {
    "scrolled": true
   },
   "outputs": [],
   "source": [
    "df_dic = pickle.load(open('속성사전_데이터프레임.pkl', 'rb'))"
   ]
  },
  {
   "cell_type": "code",
   "execution_count": 7,
   "id": "0c077315",
   "metadata": {},
   "outputs": [],
   "source": [
    "def count_underscores(text):\n",
    "    return text.count('_')\n",
    "\n",
    "df_dic['ngram'] = df_dic['pre_aspect'].apply(count_underscores)\n",
    "df_dic = df_dic.sort_values(by='ngram', ascending=False).reset_index(drop=True)"
   ]
  },
  {
   "cell_type": "code",
   "execution_count": 8,
   "id": "51f604bf",
   "metadata": {
    "scrolled": true
   },
   "outputs": [
    {
     "data": {
      "text/html": [
       "<div>\n",
       "<style scoped>\n",
       "    .dataframe tbody tr th:only-of-type {\n",
       "        vertical-align: middle;\n",
       "    }\n",
       "\n",
       "    .dataframe tbody tr th {\n",
       "        vertical-align: top;\n",
       "    }\n",
       "\n",
       "    .dataframe thead th {\n",
       "        text-align: right;\n",
       "    }\n",
       "</style>\n",
       "<table border=\"1\" class=\"dataframe\">\n",
       "  <thead>\n",
       "    <tr style=\"text-align: right;\">\n",
       "      <th></th>\n",
       "      <th>aspect</th>\n",
       "      <th>ori_aspect</th>\n",
       "      <th>pre_aspect</th>\n",
       "      <th>count</th>\n",
       "      <th>all_cnt</th>\n",
       "      <th>feature</th>\n",
       "      <th>simil_feature</th>\n",
       "      <th>ngram</th>\n",
       "    </tr>\n",
       "  </thead>\n",
       "  <tbody>\n",
       "    <tr>\n",
       "      <th>0</th>\n",
       "      <td>ease of use screen size screen resolution came...</td>\n",
       "      <td>ease_of_use_screen_size_screen_resolution_came...</td>\n",
       "      <td>eas_use_screen_size_screen_resolut_camera_resolut</td>\n",
       "      <td>1</td>\n",
       "      <td>1</td>\n",
       "      <td>NaN</td>\n",
       "      <td>dis</td>\n",
       "      <td>7</td>\n",
       "    </tr>\n",
       "    <tr>\n",
       "      <th>1</th>\n",
       "      <td>3 . 5 mm headphone jack adapter</td>\n",
       "      <td>3_5_mm_headphone_jack_adapter</td>\n",
       "      <td>3_5_mm_headphon_jack_adapt</td>\n",
       "      <td>1</td>\n",
       "      <td>1</td>\n",
       "      <td>NaN</td>\n",
       "      <td>acc</td>\n",
       "      <td>5</td>\n",
       "    </tr>\n",
       "    <tr>\n",
       "      <th>2</th>\n",
       "      <td>air view air gesture smart</td>\n",
       "      <td>air_view_air_gesture_smart</td>\n",
       "      <td>air_view_air_gestur_smart</td>\n",
       "      <td>1</td>\n",
       "      <td>1</td>\n",
       "      <td>NaN</td>\n",
       "      <td>func</td>\n",
       "      <td>4</td>\n",
       "    </tr>\n",
       "  </tbody>\n",
       "</table>\n",
       "</div>"
      ],
      "text/plain": [
       "                                              aspect  \\\n",
       "0  ease of use screen size screen resolution came...   \n",
       "1                    3 . 5 mm headphone jack adapter   \n",
       "2                         air view air gesture smart   \n",
       "\n",
       "                                          ori_aspect  \\\n",
       "0  ease_of_use_screen_size_screen_resolution_came...   \n",
       "1                      3_5_mm_headphone_jack_adapter   \n",
       "2                         air_view_air_gesture_smart   \n",
       "\n",
       "                                          pre_aspect  count  all_cnt feature  \\\n",
       "0  eas_use_screen_size_screen_resolut_camera_resolut      1        1     NaN   \n",
       "1                         3_5_mm_headphon_jack_adapt      1        1     NaN   \n",
       "2                          air_view_air_gestur_smart      1        1     NaN   \n",
       "\n",
       "  simil_feature  ngram  \n",
       "0           dis      7  \n",
       "1           acc      5  \n",
       "2          func      4  "
      ]
     },
     "execution_count": 8,
     "metadata": {},
     "output_type": "execute_result"
    }
   ],
   "source": [
    "df_dic.head(3)"
   ]
  },
  {
   "cell_type": "code",
   "execution_count": 9,
   "id": "4bf4e336",
   "metadata": {
    "scrolled": true
   },
   "outputs": [
    {
     "name": "stdout",
     "output_type": "stream",
     "text": [
      "데이터 개수: 76215\n"
     ]
    },
    {
     "data": {
      "text/html": [
       "<div>\n",
       "<style scoped>\n",
       "    .dataframe tbody tr th:only-of-type {\n",
       "        vertical-align: middle;\n",
       "    }\n",
       "\n",
       "    .dataframe tbody tr th {\n",
       "        vertical-align: top;\n",
       "    }\n",
       "\n",
       "    .dataframe thead th {\n",
       "        text-align: right;\n",
       "    }\n",
       "</style>\n",
       "<table border=\"1\" class=\"dataframe\">\n",
       "  <thead>\n",
       "    <tr style=\"text-align: right;\">\n",
       "      <th></th>\n",
       "      <th>id</th>\n",
       "      <th>model</th>\n",
       "      <th>date</th>\n",
       "      <th>rating</th>\n",
       "      <th>sentence</th>\n",
       "      <th>IOB</th>\n",
       "      <th>tokens</th>\n",
       "      <th>aspect</th>\n",
       "      <th>position</th>\n",
       "      <th>sentiment</th>\n",
       "      <th>probs</th>\n",
       "      <th>confidence</th>\n",
       "      <th>new_tokens</th>\n",
       "    </tr>\n",
       "  </thead>\n",
       "  <tbody>\n",
       "    <tr>\n",
       "      <th>0</th>\n",
       "      <td>1</td>\n",
       "      <td>galaxy_s3</td>\n",
       "      <td>2012-05-11</td>\n",
       "      <td>2</td>\n",
       "      <td>too plasticky for $ 700 . When I put a review ...</td>\n",
       "      <td>['O', 'O', 'O', 'O', 'O', 'O', 'O', 'O', 'O', ...</td>\n",
       "      <td>[too, plasticky, for, $, 700, ., when, i, put,...</td>\n",
       "      <td>[costs, materials]</td>\n",
       "      <td>[[45], [52]]</td>\n",
       "      <td>[Negative, Negative]</td>\n",
       "      <td>[[0.9986786246299744, 0.000984302954748273, 0....</td>\n",
       "      <td>[0.9987, 0.9983]</td>\n",
       "      <td>[too, plasticky, for, $, 700, ., when, i, put,...</td>\n",
       "    </tr>\n",
       "    <tr>\n",
       "      <th>1</th>\n",
       "      <td>2</td>\n",
       "      <td>galaxy_s3</td>\n",
       "      <td>2012-06-01</td>\n",
       "      <td>5</td>\n",
       "      <td>So far super good . I got my S3 in white yeste...</td>\n",
       "      <td>['O', 'O', 'O', 'O', 'O', 'O', 'O', 'O', 'O', ...</td>\n",
       "      <td>[so, far, super, good, ., i, got, my, s3, in, ...</td>\n",
       "      <td>[memory, battery, battery life]</td>\n",
       "      <td>[[48], [57], [59, 60]]</td>\n",
       "      <td>[Neutral, Positive, Positive]</td>\n",
       "      <td>[[0.0006813739310018718, 0.5115107893943787, 0...</td>\n",
       "      <td>[0.5115, 0.9756, 0.9979]</td>\n",
       "      <td>[so, far, super, good, ., i, got, my, s3, in, ...</td>\n",
       "    </tr>\n",
       "  </tbody>\n",
       "</table>\n",
       "</div>"
      ],
      "text/plain": [
       "   id      model        date  rating  \\\n",
       "0   1  galaxy_s3  2012-05-11       2   \n",
       "1   2  galaxy_s3  2012-06-01       5   \n",
       "\n",
       "                                            sentence  \\\n",
       "0  too plasticky for $ 700 . When I put a review ...   \n",
       "1  So far super good . I got my S3 in white yeste...   \n",
       "\n",
       "                                                 IOB  \\\n",
       "0  ['O', 'O', 'O', 'O', 'O', 'O', 'O', 'O', 'O', ...   \n",
       "1  ['O', 'O', 'O', 'O', 'O', 'O', 'O', 'O', 'O', ...   \n",
       "\n",
       "                                              tokens  \\\n",
       "0  [too, plasticky, for, $, 700, ., when, i, put,...   \n",
       "1  [so, far, super, good, ., i, got, my, s3, in, ...   \n",
       "\n",
       "                            aspect                position  \\\n",
       "0               [costs, materials]            [[45], [52]]   \n",
       "1  [memory, battery, battery life]  [[48], [57], [59, 60]]   \n",
       "\n",
       "                       sentiment  \\\n",
       "0           [Negative, Negative]   \n",
       "1  [Neutral, Positive, Positive]   \n",
       "\n",
       "                                               probs  \\\n",
       "0  [[0.9986786246299744, 0.000984302954748273, 0....   \n",
       "1  [[0.0006813739310018718, 0.5115107893943787, 0...   \n",
       "\n",
       "                 confidence                                         new_tokens  \n",
       "0          [0.9987, 0.9983]  [too, plasticky, for, $, 700, ., when, i, put,...  \n",
       "1  [0.5115, 0.9756, 0.9979]  [so, far, super, good, ., i, got, my, s3, in, ...  "
      ]
     },
     "execution_count": 9,
     "metadata": {},
     "output_type": "execute_result"
    }
   ],
   "source": [
    "data = pickle.load(open('감성분석후_속성전처리_데이터프레임.pkl', 'rb'))\n",
    "print('데이터 개수:', data.shape[0])\n",
    "df = data.copy().reset_index(drop=True)\n",
    "df.head(2)"
   ]
  },
  {
   "cell_type": "code",
   "execution_count": 71,
   "id": "0c43af27",
   "metadata": {},
   "outputs": [],
   "source": [
    "def space_bar(word_list):\n",
    "    combined_words = list(word_list)\n",
    "    for compound in df_dic['aspect'].tolist():\n",
    "        words = compound.split()\n",
    "        compound_word = ' '.join(words)  \n",
    "        \n",
    "        idx = 0\n",
    "        while idx < len(combined_words):\n",
    "            if combined_words[idx:idx+len(words)] == words:\n",
    "                combined_words[idx:idx+len(words)] = [compound_word]\n",
    "                idx += len(words)\n",
    "            else:\n",
    "                idx += 1\n",
    "    return combined_words"
   ]
  },
  {
   "cell_type": "code",
   "execution_count": 72,
   "id": "e2b17230",
   "metadata": {},
   "outputs": [],
   "source": [
    "with tf.device(device_name):\n",
    "    df['pre_tokens'] = df['tokens'].apply(space_bar)"
   ]
  },
  {
   "cell_type": "code",
   "execution_count": 74,
   "id": "65262468",
   "metadata": {},
   "outputs": [],
   "source": [
    "lst_mark_sentence = []\n",
    "lst_ori_feature = []\n",
    "lst_feature = []\n",
    "lst_main = []\n",
    "lst_id = []\n",
    "\n",
    "with tf.device(device_name):\n",
    "    for row in range(df.shape[0]):\n",
    "        lst_tokens = list(df.loc[row, 'pre_tokens'])\n",
    "\n",
    "\n",
    "        for idx in range(len(lst_tokens)):\n",
    "\n",
    "            if lst_tokens[idx] in df_dic['aspect'].tolist():\n",
    "                compound = lst_tokens[idx]\n",
    "                lst_new = lst_tokens[:]\n",
    "                lst_new[idx] = '[B-ASP]' + lst_tokens[idx] + '[E-ASP]'\n",
    "                mark_sentence = \" \".join(lst_new)\n",
    "                lst_mark_sentence.append(mark_sentence)\n",
    "                lst_id.append(df.loc[row, 'id'])\n",
    "                lst_ori_feature.append(df_dic.loc[df_dic['aspect'] == compound, 'aspect'].values[0])\n",
    "                lst_feature.append(df_dic.loc[df_dic['aspect'] == compound, 'pre_aspect'].values[0])\n",
    "                lst_main.append(df_dic.loc[df_dic['aspect'] == compound, 'simil_feature'].values[0])"
   ]
  },
  {
   "cell_type": "code",
   "execution_count": 75,
   "id": "b38ea7e1",
   "metadata": {},
   "outputs": [],
   "source": [
    "df_apc_dataset = pd.DataFrame({'id':lst_id, 'mark_sentence':lst_mark_sentence, \n",
    "                               'ori_feature':lst_ori_feature, 'feature':lst_feature, 'main_feature':lst_main,})"
   ]
  },
  {
   "cell_type": "code",
   "execution_count": 76,
   "id": "b7104fa4",
   "metadata": {},
   "outputs": [
    {
     "name": "stdout",
     "output_type": "stream",
     "text": [
      "데이터 개수: 102927\n"
     ]
    },
    {
     "data": {
      "text/html": [
       "<div>\n",
       "<style scoped>\n",
       "    .dataframe tbody tr th:only-of-type {\n",
       "        vertical-align: middle;\n",
       "    }\n",
       "\n",
       "    .dataframe tbody tr th {\n",
       "        vertical-align: top;\n",
       "    }\n",
       "\n",
       "    .dataframe thead th {\n",
       "        text-align: right;\n",
       "    }\n",
       "</style>\n",
       "<table border=\"1\" class=\"dataframe\">\n",
       "  <thead>\n",
       "    <tr style=\"text-align: right;\">\n",
       "      <th></th>\n",
       "      <th>id</th>\n",
       "      <th>mark_sentence</th>\n",
       "      <th>ori_feature</th>\n",
       "      <th>feature</th>\n",
       "      <th>main_feature</th>\n",
       "    </tr>\n",
       "  </thead>\n",
       "  <tbody>\n",
       "    <tr>\n",
       "      <th>0</th>\n",
       "      <td>1</td>\n",
       "      <td>too plasticky for $ 700 . when i put a review ...</td>\n",
       "      <td>quality materials</td>\n",
       "      <td>qualiti_materi</td>\n",
       "      <td>body</td>\n",
       "    </tr>\n",
       "    <tr>\n",
       "      <th>1</th>\n",
       "      <td>2</td>\n",
       "      <td>so far super good . i got my s3 in white yeste...</td>\n",
       "      <td>memory</td>\n",
       "      <td>memori</td>\n",
       "      <td>stor</td>\n",
       "    </tr>\n",
       "    <tr>\n",
       "      <th>2</th>\n",
       "      <td>2</td>\n",
       "      <td>so far super good . i got my s3 in white yeste...</td>\n",
       "      <td>battery</td>\n",
       "      <td>batteri</td>\n",
       "      <td>bat</td>\n",
       "    </tr>\n",
       "    <tr>\n",
       "      <th>3</th>\n",
       "      <td>2</td>\n",
       "      <td>so far super good . i got my s3 in white yeste...</td>\n",
       "      <td>battery life</td>\n",
       "      <td>batteri_life</td>\n",
       "      <td>bat</td>\n",
       "    </tr>\n",
       "    <tr>\n",
       "      <th>4</th>\n",
       "      <td>3</td>\n",
       "      <td>expensive or respect . i ' ve narrowed my choi...</td>\n",
       "      <td>16gb</td>\n",
       "      <td>16gb</td>\n",
       "      <td>stor</td>\n",
       "    </tr>\n",
       "  </tbody>\n",
       "</table>\n",
       "</div>"
      ],
      "text/plain": [
       "   id                                      mark_sentence        ori_feature  \\\n",
       "0   1  too plasticky for $ 700 . when i put a review ...  quality materials   \n",
       "1   2  so far super good . i got my s3 in white yeste...             memory   \n",
       "2   2  so far super good . i got my s3 in white yeste...            battery   \n",
       "3   2  so far super good . i got my s3 in white yeste...       battery life   \n",
       "4   3  expensive or respect . i ' ve narrowed my choi...               16gb   \n",
       "\n",
       "          feature main_feature  \n",
       "0  qualiti_materi         body  \n",
       "1          memori         stor  \n",
       "2         batteri          bat  \n",
       "3    batteri_life          bat  \n",
       "4            16gb         stor  "
      ]
     },
     "execution_count": 76,
     "metadata": {},
     "output_type": "execute_result"
    }
   ],
   "source": [
    "print('데이터 개수:', df_apc_dataset.shape[0])\n",
    "df_apc_dataset.head()"
   ]
  },
  {
   "cell_type": "code",
   "execution_count": 78,
   "id": "d3d07e23",
   "metadata": {},
   "outputs": [],
   "source": [
    "df_apc_dataset.to_csv('apc_훈련데이터셋.csv', index=False)"
   ]
  },
  {
   "cell_type": "markdown",
   "id": "7d42f76d",
   "metadata": {},
   "source": [
    "# 2. Aspect Sentiment Classification\n",
    "- **pyabsa** : [🔗깃허브 주소](https://github.com/yangheng95/PyABSA/tree/v2), \n",
    "[🔗Documentation](https://pyabsa.readthedocs.io/en/latest/index.html)\n",
    "\n",
    "- **aspect sentiment classification** : [🔗깃허브 주소](https://github.com/yangheng95/PyABSA/blob/v2/examples-v2/aspect_polarity_classification/Aspect_Sentiment_Classification.ipynb)   \n",
    "</br>\n",
    "- **모델 설명**\n",
    "    - 속성 기반 감성 예측 모델\n",
    "    - 지정한 속성 (ex: [B-ASP]battery life[E-ASP])에 대한 감성을 '긍정, 부정, 중립', 3가지로 표현함\n",
    "    - 한 문장에 여러 개의 속성이 존재하는 경우 각 속성에 대한 감성을 각각 도출"
   ]
  },
  {
   "cell_type": "code",
   "execution_count": null,
   "id": "c7aacaee",
   "metadata": {},
   "outputs": [],
   "source": [
    "!pip install pyabsa -U"
   ]
  },
  {
   "cell_type": "code",
   "execution_count": null,
   "id": "9fe4aff1",
   "metadata": {
    "scrolled": true
   },
   "outputs": [],
   "source": [
    "!pip install pyabsa==v1.16.27"
   ]
  },
  {
   "cell_type": "code",
   "execution_count": null,
   "id": "0731a009",
   "metadata": {
    "scrolled": true
   },
   "outputs": [],
   "source": [
    "from pyabsa import AspectPolarityClassification as APC, available_checkpoints\n",
    "\n",
    "# you can view all available checkpoints by calling available_checkpoints()\n",
    "checkpoint_map = available_checkpoints(show_ckpts=True)\n",
    "\n",
    "classifier = APC.SentimentClassifier('english',\n",
    "                                     auto_device=True,  # False means load model on CPU\n",
    "                                     cal_perplexity=True,\n",
    "                                     )"
   ]
  },
  {
   "cell_type": "code",
   "execution_count": null,
   "id": "fb238d80",
   "metadata": {},
   "outputs": [],
   "source": [
    "'''# instance inference\n",
    "classifier.predict(['I love this movie, it is so great!'],\n",
    "                   save_result=True,\n",
    "                   print_result=True,  # print the result\n",
    "                   ignore_error=True,  # ignore the error when the model cannot predict the input\n",
    "                   )\n",
    "\n",
    "inference_source = APC.APCDatasetList.Laptop14\n",
    "apc_result = classifier.batch_predict(target_file=inference_source,  #\n",
    "                                      save_result=True,\n",
    "                                      print_result=True,  # print the result\n",
    "                                      pred_sentiment=True,  # Predict the sentiment of extracted aspect terms\n",
    "                                      )\n",
    "\n",
    "print(apc_result)'''"
   ]
  },
  {
   "cell_type": "code",
   "execution_count": 11,
   "id": "aadd060f",
   "metadata": {},
   "outputs": [],
   "source": [
    "data = pd.read_csv('apc_훈련데이터셋.csv')"
   ]
  },
  {
   "cell_type": "code",
   "execution_count": 12,
   "id": "4594f388",
   "metadata": {},
   "outputs": [
    {
     "name": "stdout",
     "output_type": "stream",
     "text": [
      "데이터 개수: 102927\n"
     ]
    },
    {
     "data": {
      "text/html": [
       "<div>\n",
       "<style scoped>\n",
       "    .dataframe tbody tr th:only-of-type {\n",
       "        vertical-align: middle;\n",
       "    }\n",
       "\n",
       "    .dataframe tbody tr th {\n",
       "        vertical-align: top;\n",
       "    }\n",
       "\n",
       "    .dataframe thead th {\n",
       "        text-align: right;\n",
       "    }\n",
       "</style>\n",
       "<table border=\"1\" class=\"dataframe\">\n",
       "  <thead>\n",
       "    <tr style=\"text-align: right;\">\n",
       "      <th></th>\n",
       "      <th>id</th>\n",
       "      <th>mark_sentence</th>\n",
       "      <th>ori_feature</th>\n",
       "      <th>feature</th>\n",
       "      <th>main_feature</th>\n",
       "    </tr>\n",
       "  </thead>\n",
       "  <tbody>\n",
       "    <tr>\n",
       "      <th>0</th>\n",
       "      <td>1</td>\n",
       "      <td>too plasticky for $ 700 . when i put a review ...</td>\n",
       "      <td>quality materials</td>\n",
       "      <td>qualiti_materi</td>\n",
       "      <td>body</td>\n",
       "    </tr>\n",
       "    <tr>\n",
       "      <th>1</th>\n",
       "      <td>2</td>\n",
       "      <td>so far super good . i got my s3 in white yeste...</td>\n",
       "      <td>memory</td>\n",
       "      <td>memori</td>\n",
       "      <td>stor</td>\n",
       "    </tr>\n",
       "    <tr>\n",
       "      <th>2</th>\n",
       "      <td>2</td>\n",
       "      <td>so far super good . i got my s3 in white yeste...</td>\n",
       "      <td>battery</td>\n",
       "      <td>batteri</td>\n",
       "      <td>bat</td>\n",
       "    </tr>\n",
       "    <tr>\n",
       "      <th>3</th>\n",
       "      <td>2</td>\n",
       "      <td>so far super good . i got my s3 in white yeste...</td>\n",
       "      <td>battery life</td>\n",
       "      <td>batteri_life</td>\n",
       "      <td>bat</td>\n",
       "    </tr>\n",
       "    <tr>\n",
       "      <th>4</th>\n",
       "      <td>3</td>\n",
       "      <td>expensive or respect . i ' ve narrowed my choi...</td>\n",
       "      <td>16gb</td>\n",
       "      <td>16gb</td>\n",
       "      <td>stor</td>\n",
       "    </tr>\n",
       "  </tbody>\n",
       "</table>\n",
       "</div>"
      ],
      "text/plain": [
       "   id                                      mark_sentence        ori_feature  \\\n",
       "0   1  too plasticky for $ 700 . when i put a review ...  quality materials   \n",
       "1   2  so far super good . i got my s3 in white yeste...             memory   \n",
       "2   2  so far super good . i got my s3 in white yeste...            battery   \n",
       "3   2  so far super good . i got my s3 in white yeste...       battery life   \n",
       "4   3  expensive or respect . i ' ve narrowed my choi...               16gb   \n",
       "\n",
       "          feature main_feature  \n",
       "0  qualiti_materi         body  \n",
       "1          memori         stor  \n",
       "2         batteri          bat  \n",
       "3    batteri_life          bat  \n",
       "4            16gb         stor  "
      ]
     },
     "execution_count": 12,
     "metadata": {},
     "output_type": "execute_result"
    }
   ],
   "source": [
    "print('데이터 개수:', data.shape[0])\n",
    "data.head()"
   ]
  },
  {
   "cell_type": "code",
   "execution_count": 13,
   "id": "719a9b03",
   "metadata": {},
   "outputs": [
    {
     "data": {
      "text/plain": [
       "\"so far super good . i got my s3 in white yesterday i had the iphone 4s before but i played before with the s2 that i already liked . the phone feels great in hand it ' s super fast . i like the fact to expand memory by micro sd and that you can change battery . [B-ASP]battery life[E-ASP] is great for me so far looking forward to explore more features . in case you have the htc one x i think you don ' t need to upgrade otherwise i can highly recommend it it ' s not feeling so huge than the note .\""
      ]
     },
     "execution_count": 13,
     "metadata": {},
     "output_type": "execute_result"
    }
   ],
   "source": [
    "data.loc[3, 'mark_sentence']"
   ]
  },
  {
   "cell_type": "code",
   "execution_count": null,
   "id": "20129a18",
   "metadata": {
    "scrolled": true
   },
   "outputs": [],
   "source": [
    "df = data.iloc[:40000, :]\n",
    "df_text = df['mark_sentence'].tolist()\n",
    "\n",
    "with tf.device(device_name):\n",
    "    lst_result1 = []\n",
    "    idx = df.index[0]\n",
    "    for ex in df_text:\n",
    "        result = classifier.predict(\n",
    "            text=ex,\n",
    "            print_result=False,\n",
    "            ignore_error=True,  # ignore an invalid example, if it is False, invalid examples will raise Exceptions\n",
    "            eval_batch_size=32,\n",
    "        )\n",
    "        lst_result1.append(result)\n",
    "        print('############## idx:', idx, '##############')\n",
    "        idx += 1\n",
    "\n",
    "file_name = 'apc_result_1.pkl'\n",
    "\n",
    "# 데이터를 pickle 파일로 저장\n",
    "with open(file_name, 'wb') as file:\n",
    "    pickle.dump(lst_result1, file)"
   ]
  },
  {
   "cell_type": "code",
   "execution_count": null,
   "id": "e620c24f",
   "metadata": {
    "scrolled": true
   },
   "outputs": [],
   "source": [
    "df = data.iloc[40000:80000, :]\n",
    "df_text = df['mark_sentence'].tolist()\n",
    "\n",
    "with tf.device(device_name):\n",
    "    lst_result2 = []\n",
    "    idx = df.index[0]\n",
    "    for ex in df_text:\n",
    "        result = classifier.predict(\n",
    "            text=ex,\n",
    "            print_result=False,\n",
    "            ignore_error=True,  # ignore an invalid example, if it is False, invalid examples will raise Exceptions\n",
    "            eval_batch_size=32,\n",
    "        )\n",
    "        lst_result2.append(result)\n",
    "        print('############## idx:', idx, '##############')\n",
    "        idx += 1\n",
    "\n",
    "file_name = 'apc_result_2.pkl'\n",
    "\n",
    "# 데이터를 pickle 파일로 저장\n",
    "with open(file_name, 'wb') as file:\n",
    "    pickle.dump(lst_result2, file)"
   ]
  },
  {
   "cell_type": "code",
   "execution_count": null,
   "id": "390cd270",
   "metadata": {
    "scrolled": true
   },
   "outputs": [],
   "source": [
    "df = data.iloc[80000:, :]\n",
    "df_text = df['mark_sentence'].tolist()\n",
    "\n",
    "\n",
    "with tf.device(device_name):\n",
    "    lst_result3 = []\n",
    "    idx = df.index[0]\n",
    "    for ex in tqdm(df_text):\n",
    "        result = classifier.predict(\n",
    "            text=ex,\n",
    "            print_result=False,\n",
    "            ignore_error=True,  # ignore an invalid example, if it is False, invalid examples will raise Exceptions\n",
    "            eval_batch_size=32,\n",
    "        )\n",
    "        lst_result3.append(result)\n",
    "        print('############## idx:', idx, '##############')\n",
    "        idx += 1\n",
    "\n",
    "file_name = 'apc_result_3.pkl'\n",
    "\n",
    "# 데이터를 pickle 파일로 저장\n",
    "with open(file_name, 'wb') as file:\n",
    "    pickle.dump(lst_result3, file)"
   ]
  },
  {
   "cell_type": "code",
   "execution_count": null,
   "id": "702a3d33",
   "metadata": {},
   "outputs": [],
   "source": [
    "lst_1 = pickle.load(open('apc_result_1.pkl', 'rb'))\n",
    "lst_2 = pickle.load(open('apc_result_2.pkl', 'rb'))\n",
    "lst_3 = pickle.load(open('apc_result_3.pkl', 'rb'))\n",
    "\n",
    "df_1 = pd.DataFrame(lst_1)\n",
    "df_2 = pd.DataFrame(lst_2)\n",
    "df_3 = pd.DataFrame(lst_3)\n",
    "\n",
    "df_all = pd.concat([df_1, df_2, df_3]).reset_index(drop=True)"
   ]
  },
  {
   "cell_type": "code",
   "execution_count": 20,
   "id": "e638eb2e",
   "metadata": {},
   "outputs": [
    {
     "data": {
      "text/html": [
       "<div>\n",
       "<style scoped>\n",
       "    .dataframe tbody tr th:only-of-type {\n",
       "        vertical-align: middle;\n",
       "    }\n",
       "\n",
       "    .dataframe tbody tr th {\n",
       "        vertical-align: top;\n",
       "    }\n",
       "\n",
       "    .dataframe thead th {\n",
       "        text-align: right;\n",
       "    }\n",
       "</style>\n",
       "<table border=\"1\" class=\"dataframe\">\n",
       "  <thead>\n",
       "    <tr style=\"text-align: right;\">\n",
       "      <th></th>\n",
       "      <th>text</th>\n",
       "      <th>aspect</th>\n",
       "      <th>sentiment</th>\n",
       "      <th>confidence</th>\n",
       "      <th>probs</th>\n",
       "      <th>ref_sentiment</th>\n",
       "      <th>ref_check</th>\n",
       "      <th>perplexity</th>\n",
       "    </tr>\n",
       "  </thead>\n",
       "  <tbody>\n",
       "    <tr>\n",
       "      <th>0</th>\n",
       "      <td>too plasticky for $ 700 . when i put a review ...</td>\n",
       "      <td>['quality materials']</td>\n",
       "      <td>['Negative']</td>\n",
       "      <td>[0.9467122554779053]</td>\n",
       "      <td>[array([0.94671226, 0.05119575, 0.00209207], d...</td>\n",
       "      <td>['-100']</td>\n",
       "      <td>['']</td>\n",
       "      <td>1.161164</td>\n",
       "    </tr>\n",
       "    <tr>\n",
       "      <th>1</th>\n",
       "      <td>so far super good . i got my s3 in white yeste...</td>\n",
       "      <td>['memory']</td>\n",
       "      <td>['Positive']</td>\n",
       "      <td>[0.9818015694618225]</td>\n",
       "      <td>[array([0.00167393, 0.01652445, 0.98180157], d...</td>\n",
       "      <td>['-100']</td>\n",
       "      <td>['']</td>\n",
       "      <td>1.160901</td>\n",
       "    </tr>\n",
       "    <tr>\n",
       "      <th>2</th>\n",
       "      <td>great in hand it ' s super fast . i like the f...</td>\n",
       "      <td>['battery']</td>\n",
       "      <td>['Positive']</td>\n",
       "      <td>[0.9737927317619324]</td>\n",
       "      <td>[array([0.00311911, 0.02308813, 0.97379273], d...</td>\n",
       "      <td>['-100']</td>\n",
       "      <td>['']</td>\n",
       "      <td>1.161632</td>\n",
       "    </tr>\n",
       "    <tr>\n",
       "      <th>3</th>\n",
       "      <td>great in hand it ' s super fast . i like the f...</td>\n",
       "      <td>['battery life']</td>\n",
       "      <td>['Positive']</td>\n",
       "      <td>[0.985840916633606]</td>\n",
       "      <td>[array([0.00214477, 0.01201428, 0.9858409 ], d...</td>\n",
       "      <td>['-100']</td>\n",
       "      <td>['']</td>\n",
       "      <td>1.161632</td>\n",
       "    </tr>\n",
       "    <tr>\n",
       "      <th>4</th>\n",
       "      <td>expensive or respect . i ' ve narrowed my choi...</td>\n",
       "      <td>['16gb']</td>\n",
       "      <td>['Negative']</td>\n",
       "      <td>[0.4394790828227997]</td>\n",
       "      <td>[array([0.43947908, 0.33674648, 0.22377446], d...</td>\n",
       "      <td>['-100']</td>\n",
       "      <td>['']</td>\n",
       "      <td>1.160578</td>\n",
       "    </tr>\n",
       "  </tbody>\n",
       "</table>\n",
       "</div>"
      ],
      "text/plain": [
       "                                                text                 aspect  \\\n",
       "0  too plasticky for $ 700 . when i put a review ...  ['quality materials']   \n",
       "1  so far super good . i got my s3 in white yeste...             ['memory']   \n",
       "2  great in hand it ' s super fast . i like the f...            ['battery']   \n",
       "3  great in hand it ' s super fast . i like the f...       ['battery life']   \n",
       "4  expensive or respect . i ' ve narrowed my choi...               ['16gb']   \n",
       "\n",
       "      sentiment            confidence  \\\n",
       "0  ['Negative']  [0.9467122554779053]   \n",
       "1  ['Positive']  [0.9818015694618225]   \n",
       "2  ['Positive']  [0.9737927317619324]   \n",
       "3  ['Positive']   [0.985840916633606]   \n",
       "4  ['Negative']  [0.4394790828227997]   \n",
       "\n",
       "                                               probs ref_sentiment ref_check  \\\n",
       "0  [array([0.94671226, 0.05119575, 0.00209207], d...      ['-100']      ['']   \n",
       "1  [array([0.00167393, 0.01652445, 0.98180157], d...      ['-100']      ['']   \n",
       "2  [array([0.00311911, 0.02308813, 0.97379273], d...      ['-100']      ['']   \n",
       "3  [array([0.00214477, 0.01201428, 0.9858409 ], d...      ['-100']      ['']   \n",
       "4  [array([0.43947908, 0.33674648, 0.22377446], d...      ['-100']      ['']   \n",
       "\n",
       "   perplexity  \n",
       "0    1.161164  \n",
       "1    1.160901  \n",
       "2    1.161632  \n",
       "3    1.161632  \n",
       "4    1.160578  "
      ]
     },
     "execution_count": 20,
     "metadata": {},
     "output_type": "execute_result"
    },
    {
     "data": {
      "text/plain": [
       "(102927, 8)"
      ]
     },
     "execution_count": 20,
     "metadata": {},
     "output_type": "execute_result"
    }
   ],
   "source": [
    "df_all.head()\n",
    "df_all.shape"
   ]
  },
  {
   "cell_type": "code",
   "execution_count": 16,
   "id": "e00582fd",
   "metadata": {},
   "outputs": [
    {
     "data": {
      "text/plain": [
       "['Negative']    64265\n",
       "['Positive']    34159\n",
       "['Neutral']      4503\n",
       "Name: sentiment, dtype: int64"
      ]
     },
     "execution_count": 16,
     "metadata": {},
     "output_type": "execute_result"
    }
   ],
   "source": [
    "df_all['sentiment'].value_counts()"
   ]
  },
  {
   "cell_type": "code",
   "execution_count": null,
   "id": "02832da3",
   "metadata": {},
   "outputs": [],
   "source": [
    "import pickle\n",
    "file_name = '감성예측결과_데이터프레임.pkl'\n",
    "\n",
    "# 데이터를 pickle 파일로 저장\n",
    "with open(file_name, 'wb') as file:\n",
    "    pickle.dump(df_all, file)\n",
    "\n",
    "df_all.to_csv('감성예측결과_데이터프레임.csv', index=False)"
   ]
  }
 ],
 "metadata": {
  "kernelspec": {
   "display_name": "Python 3 (ipykernel)",
   "language": "python",
   "name": "python3"
  },
  "language_info": {
   "codemirror_mode": {
    "name": "ipython",
    "version": 3
   },
   "file_extension": ".py",
   "mimetype": "text/x-python",
   "name": "python",
   "nbconvert_exporter": "python",
   "pygments_lexer": "ipython3",
   "version": "3.10.9"
  },
  "toc": {
   "base_numbering": 1,
   "nav_menu": {
    "height": "120.998px",
    "width": "185.998px"
   },
   "number_sections": false,
   "sideBar": true,
   "skip_h1_title": false,
   "title_cell": "Table of Contents",
   "title_sidebar": "목차",
   "toc_cell": true,
   "toc_position": {},
   "toc_section_display": true,
   "toc_window_display": false
  }
 },
 "nbformat": 4,
 "nbformat_minor": 5
}

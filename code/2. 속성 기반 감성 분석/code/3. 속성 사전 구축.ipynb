{
 "cells": [
  {
   "cell_type": "code",
   "execution_count": 5,
   "id": "fb18687f",
   "metadata": {
    "ExecuteTime": {
     "end_time": "2023-08-27T17:52:26.945929Z",
     "start_time": "2023-08-27T17:52:26.709098Z"
    }
   },
   "outputs": [],
   "source": [
    "import pandas as pd\n",
    "import numpy as np\n",
    "import pickle\n",
    "\n",
    "from IPython.core.interactiveshell import InteractiveShell\n",
    "InteractiveShell.ast_node_interactivity = \"all\""
   ]
  },
  {
   "cell_type": "code",
   "execution_count": 2,
   "id": "20e15c59",
   "metadata": {},
   "outputs": [
    {
     "name": "stdout",
     "output_type": "stream",
     "text": [
      "GPU 장치: /device:GPU:0\n"
     ]
    },
    {
     "name": "stderr",
     "output_type": "stream",
     "text": [
      "2023-09-20 04:53:04.860005: I metal_plugin/src/device/metal_device.cc:1154] Metal device set to: Apple M2\n",
      "2023-09-20 04:53:04.860026: I metal_plugin/src/device/metal_device.cc:296] systemMemory: 16.00 GB\n",
      "2023-09-20 04:53:04.860033: I metal_plugin/src/device/metal_device.cc:313] maxCacheSize: 5.33 GB\n",
      "2023-09-20 04:53:04.860073: I tensorflow/core/common_runtime/pluggable_device/pluggable_device_factory.cc:303] Could not identify NUMA node of platform GPU ID 0, defaulting to 0. Your kernel may not have been built with NUMA support.\n",
      "2023-09-20 04:53:04.860091: I tensorflow/core/common_runtime/pluggable_device/pluggable_device_factory.cc:269] Created TensorFlow device (/device:GPU:0 with 0 MB memory) -> physical PluggableDevice (device: 0, name: METAL, pci bus id: <undefined>)\n"
     ]
    }
   ],
   "source": [
    "import tensorflow as tf\n",
    "\n",
    "# GPU 사용 설정\n",
    "device_name = tf.test.gpu_device_name()\n",
    "if not tf.config.list_physical_devices('GPU'):\n",
    "    print(\"GPU를 찾을 수 없습니다. 런타임 유형을 GPU로 변경해주세요.\")\n",
    "else:\n",
    "    print(f\"GPU 장치: {device_name}\")"
   ]
  },
  {
   "cell_type": "markdown",
   "id": "31a39763",
   "metadata": {},
   "source": [
    "# 1. 수기 라벨링한 속성 분류\n",
    "- 처리 프로세스\n",
    "    - 추출된 총 7000개 정도의 속성에서 출현 횟수 5회 이상인 속성을 기준 총 1,076개의 속성에 대해 수기 라벨링 진행\n",
    "    - fasttext로 유사 단어를 추출할 때 오분류되기 쉬운 단어(ex: quality, perform)도 추가로 수기 라벨링 진행\n",
    "- 분류 기준\n",
    "    - battery : 배터리에 관련된 속성\n",
    "    - body : 스마트폰의 외관과 내구성, 디자인적 요소에 관련된 속성\n",
    "    - display : 화면 자체에 대한 설명과 성능에 관련된 속성\n",
    "    - camera : 카메라 성능과 관련 기능에 관련된 속성\n",
    "    - function : 스마트폰에 탑재된 기능에 관련된 속성\n",
    "    - accessory : 스마트폰과 동봉되는 액세서리에 관련된 속성\n",
    "    - mainboard (processor + storage) : 처리 성능과 저장 용량에 관련된 속성  \n",
    "    => 수기 라벨링을 통해 정의된 스마트폰 속성 개수 : 421개  \n",
    "    => 총 출현 횟수 기준으로 약 90% 정도의 속성을 살펴봄\n"
   ]
  },
  {
   "cell_type": "code",
   "execution_count": 6,
   "id": "73e27e10",
   "metadata": {},
   "outputs": [],
   "source": [
    "lst_batt = ['charg', 'recharg', 'batteri_charg', 'batteri', 'batter', 'bateri', 'battari', \n",
    "            'baterri', 'phone_batteri', 'iphon_batteri', 'intern_batteri', 'batteri_backup', \n",
    "            'batteri_replac', 'replac_batteri', 'standbi_time', 'batteri_percentag', 'batteri_usag', \n",
    "            'batteri_life', 'batter_life', 'batteri_live', 'bateri_life', 'batteri_health', 'batteri_capac', \n",
    "            'batteri_perform', 'batteri_power', 'batteri_qualiti', 'batteri_condit', 'batteri_time', \n",
    "            'charg_time', 'fast_charg']\n",
    "\n",
    "\n",
    "lst_cam = ['camera', 'camara', 'cam', 'front_camera', 'front_face_camera', 'back_camera', 'rear_camera', \n",
    "           'rear_face_camera', 'selfi_camera', 'face_camera', 'main_camera', 'photo', 'imag', \n",
    "           'pixel', 'camera_qualiti', 'pictur_qualiti', 'photo_qualiti', 'imag_qualiti', 'video_qualiti', \n",
    "           'shutter_sound', 'camera_shutter', 'shutter', 'camera_shutter_sound', 'camera_sound', 'shutter_nois', \n",
    "           'camera_nois', 'camera_len', 'camera_lens', 'len', 'lens', 'camera_glass', 'camera_featur', 'lens_cover' \n",
    "           'camera_function', 'camera_app']\n",
    "# pic, pictur, video\n",
    "\n",
    "lst_dis = ['of_the_screen', 'screen', 'phone_screen', 'display', 'amol_display', 'display_screen', 'screen_display', \n",
    "           'retina_display', 'glass_screen', 'touch_screen', 'touchscreen', 'lcd', 'lcd_screen', 'led_screen', \n",
    "           'hd_screen', 'screen_size', 'size_of_the_screen',  'graphic', 'screen_color', 'screen_qualiti', \n",
    "           'screen_resolut', 'resolut', 'bright', 'screen_bright', 'crack_screen', 'screen_burn', \n",
    "           'screen_touch', 'sensit', 'screen_sensit', 'gorilla_glass', 'temper_glass', 'panel', \n",
    "           \n",
    "          'size_screen'] #### 추가한거\n",
    "\n",
    "lst_body = ['cosmet_condit', 'hardwar', 'bodi', 'bezel', 'form_factor', 'plate', 'visual', 'phone_look', \n",
    "            'look_phone', 'exterior', 'cosmet', 'design', 'style', 'aesthet', 'shape', 'back_panel', \n",
    "            'size', 'size_of', 'size_of_the_phone', 'weight', 'grip', 'width',  'back_of_the_phone', \n",
    "            'paint', 'gold', 'silver', 'edg', 'surfac', 'frame', 'materi', 'plastic', 'metal', \n",
    "            'metal_frame', 'glass',  'aluminum', 'back_glass', 'glass_back', 'glass_front', 'glass_cover', \n",
    "            'port', 'charg_port', 'charger_port', 'usb_port', 'headphon_port', 'lightn_port', 'sim_card_port', \n",
    "            'audio_port', 'speaker_grill', 'speaker_hole', 'button', 'home_button', 'power_button', \n",
    "            'volum_up_button', 'volum_button', 'lock_button', 'back_button', 'mute_button', 'silent_button', \n",
    "            'volum_down_button', 'mute_switch', 'menu_button', 'botton', 'home_key', \n",
    "            'build', 'built', 'construct', 'chassi', 'durabl', 'volum_key', 'power_key', 'scratch', 'crack', \n",
    "            'waterproof', 'water_resist', 'water_proof', 'water_damag', 'waterproof_featur', 'built_qualiti', \n",
    "            'plastic_cover', 'metal_cover', 'on_off_button', \n",
    "           \n",
    "           'size_phone', 'back_phone'] #### 추가한거\n",
    "# outlet, look, corner\n",
    "\n",
    "lst_func = ['flashlight', 'led_light', 'mute_switch', 'speaker', 'phone_speaker', 'ear_speaker', \n",
    "            'extern_speaker', 'earpiec_speaker', 'intern_speaker', 'mic', 'earpiec', 'ear_piec', \n",
    "            'true_tone', 'sound_system', '3d_touch',  'scanner', 'gyroscop', 'sound', 'call_volum', \n",
    "            'audio', 'microphon', 'speaker_phone', 'speakerphon', 'sound_qualiti', 'speaker_qualiti', \n",
    "            'audio_qualiti', 'call_qualiti', 'function', 'phone_function', 'touch_function', \n",
    "            'fingerprint_reader', 'fingerprint_scanner', 'fingerprint', 'fingerprint_sensor', \n",
    "            'finger_print_scanner', 'fingerprint_recognit', 'face_recognit', 'facial_recognit', \n",
    "            'face_id', 'faceid', 'touch', 'touch_id', 'touchid', 'sensor', 'proxim_sensor', 'vibrat',  \n",
    "            'voic_command', 'voic_control', 'air_gestur', 'gestur', 'recognit', 'volum_control', \n",
    "            'bluetooth', 'blue_tooth', 'blutooth', 'ringer', 'airplan_mode', 'screen_rotat', 'nfc', \n",
    "            'secur', 'secur_featur', 'privaci', 'wireless_charg']\n",
    "\n",
    "lst_main = ['motherboard', 'mother_board', 'logic_board', 'circuit_board', 'main_board', 'baseband', \n",
    "            'circuit', 'board']\n",
    "\n",
    "lst_proc = ['processor', 'ram', 'cpu', 'quad_core', 'snapdragon_processor', 'ap', 'exyno_processor', \n",
    "            'core', 'process_speed', 'processor_speed', 'process_power']\n",
    "# 'heat', 'heat_up'\n",
    "\n",
    "lst_stor = ['storag', 'intern_storag', 'storag_space', 'memori_space', ' expand_storag', 'space', 'gb', \n",
    "            '16gb', '32gb', '8gb', '16_gb', 'memori', 'intern_memori', 'expand_memori', 'memori_card', \n",
    "            'memori_chip', 'extern_memori', 'rom', 'storag_capac', 'memori_capac']\n",
    "\n",
    "lst_acc = ['accessori', 'accesori', 'charger', 'wall_charger', 'phone_charger', 'batteri_charger', \n",
    "           'wireless_charger', 'fast_charger', 'usb_charger', 'car_charger', 'charg_block', 'power_brick',\n",
    "           'charg_brick', 'charger_wire', 'charg_wire', 'wire', 'earphon', 'ear_phone',  'batteri_charg', \n",
    "           'headset', 'handset', 'head_phone', 'headphon', 'ear_bud', 'earbud', 'earpod', 'dock', 'cabl',\n",
    "           'charg_cabl', 'charger_cabl', 'usb_cabl', 'lightn_cabl', 'power_cabl', 'light_cabl', 'lighten_cabl', \n",
    "           'data_cabl', 'jack', 'headphon_jack', 'earphon_jack', 'audio_jack', 'phone_jack', 'adapt', \n",
    "           'adaptor', 'power_adapt', 'wall_adapt', 'charger_adapt', 'charg_adapt', 'headphon_adapt', 'plug', \n",
    "           'charg_plug', 'wall_plug', 'charger_plug', 'ear_plug', 'power_plug', 'cord', 'charg_cord',\n",
    "           'power_cord', 'usb_cord', 'charger_cord', 'connector', ' lightn_connector', 'usb_connector']"
   ]
  },
  {
   "cell_type": "code",
   "execution_count": 7,
   "id": "dccb7668",
   "metadata": {},
   "outputs": [],
   "source": [
    "plus_body = ['build_qualiti', 'built_qualiti', 'qualiti_materi', 'qualiti_build', 'cosmet_qualiti', \n",
    "             'aluminum_build_qualiti', 'design_qualiti','materi_qualiti', '_resist_qualiti', \n",
    "             'construct_qualiti', 'perform_camera_qualiti_waterproof', \n",
    "            \n",
    "             'condit_perform', 'perform_style', 'perform_design', 'style_perform']\n",
    "\n",
    "plus_cam = ['pic_qualiti', 'qualiti_of_the_pictur', 'qualiti_of_photo', 'qualiti_pictur', 'qualiti_of_the_photograph', \n",
    "            'qualiti_of_the_camera', 'camera_pictur_qualiti', 'qualiti_in_pictur', 'qualiti_of_imag', 'len_qualiti', \n",
    "            'qualiti_of_pic', 'indoor_photo_qualiti', 'shot_qualiti', 'qualiti_imag', 'qualiti_photo', \n",
    "            'qualiti_of_camera', 'pictur_take_qualiti', 'qualiti_pic', 'camara_qualiti', \n",
    "            'perform_camera_qualiti_waterproof', 'oper_camera_qualiti', 'pictut_qualiti', \n",
    "            \n",
    "            'camera_perform']\n",
    "\n",
    "\n",
    "plus_func = ['voic_qualiti', 'qualiti_sound', 'qualiti_speaker', 'qualiti_of_the_sound', 'voic_call_qualiti', \n",
    "            'qualiti_of_sound', 'microphon_qualiti', 'qualiti_of_speaker', 'qualiti_of_the_audio', \n",
    "            'call_qualiti_mic', 'sound_qualiti_batteri_life', 'screen_resolut_speakerphon_qualiti', \n",
    "            'loud_speaker_qualiti', 'video_sound_qualiti', 'call_qualiti_featur', 'soudn_qualiti', \n",
    "            'phone_call_qualiti', 'call_qualiti_bluetooth_qualiti', 'signal_qualiti', \n",
    "            \n",
    "            'bluetooth_perform', 'audio_perform']\n",
    "\n",
    "plus_dis = ['graphic_qualiti', 'hd_qualiti', 'screen_resolut_speakerphon_qualiti', 'qualiti_of_screen', \n",
    "            'size_screen_video_qualiti', 'qualiti_of_the_screen', 'display_batteri_build_qualiti', \n",
    "            \n",
    "            'screen_perform', 'graphic_perform', 'touch_screen_perform']\n",
    "\n",
    "plus_proc = ['process_speed_qualiti_build',\n",
    "             'processor_perform', 'speed_perform']\n",
    "\n",
    "plus_batt = ['batter_qualiti', 'sound_qualiti_batteri_life', 'display_batteri_build_qualiti', \n",
    "            \n",
    "             'batter_perform', 'batt_perform']\n",
    "\n",
    "plus_acc = ['headset_qualiti']"
   ]
  },
  {
   "cell_type": "code",
   "execution_count": 8,
   "id": "d8fbaa6d",
   "metadata": {},
   "outputs": [],
   "source": [
    "lst_other = ['back_cover', 'cover', 'coverag', 'charg_port_cover', \n",
    "         'screen_cover', 'glass_cover', 'port_cover',\n",
    "       'batteri_cover', 'usb_port_cover', 'usb_cover', 'servic_coverag',\n",
    "       'recoveri', 'charg_cover', 'custom_recoveri', 'case_cover',\n",
    "       'speaker_cover', 'coverag_area', 'phone_cover', 'charger_cover',\n",
    "       'flip_cover', 'glass_protect_cover', 'cover_color', 'bodi_cover',\n",
    "       'cover_charger', 'metal_cover', 'lay_on_plastic_screen_cover',\n",
    "       'simcard_cover', 'oleophob_cover', 'sim_card_cover', 'ipnon_cover',\n",
    "       'coverif', 'face_cover', 'glass_screen_cover',\n",
    "       'protect_temper_glass_cover', 'cover_beack', 'plastic_back_cover',\n",
    "       'batteri_charg_cover', 'cover_flap', 'usb_port_back_cover',\n",
    "       'cover_to', 'plug_cover', 'sim_cover', 'cell_coverag',\n",
    "       'back_batteri_cover', 'back_door_cover', 'flip_cover_folio_case',\n",
    "       'plastic_batteri_cover', 'covers', 'cell_coverga', 'plug_in_cover',\n",
    "       'coverag_bar', 'glass_len_cover', 'len_cover', 'front_glass_cover',\n",
    "       'data_coverag', 'hard_cover', 'camera_cover', 'lens_cover',\n",
    "       'charger_port_cover', 'recoveri_mode', 'back_cover_protector',\n",
    "       'warranti_coverag', 'dust_cover', 'batteri_back_cover',\n",
    "            \n",
    "        'slot', 'sim_card_slot', 'sd_card_slot', 'sim_slot', 'sd_slot', 'memori_card_slot', \n",
    "        'sim_tray', 'tray', 'sim_card_tray', 'sim_card_holder', 'sim_card_reader',    \n",
    "        'screen_protector', 'glass_screen_protector', 'protector', 'screen_protect', \n",
    "        'temper_glass_screen_protector', 'protect', 'film', 'screen_cover', \n",
    "        'glass_protect_screen', 'plastic_screen_protector', 'protect_screen']"
   ]
  },
  {
   "cell_type": "code",
   "execution_count": 9,
   "id": "0fa6a169",
   "metadata": {},
   "outputs": [],
   "source": [
    "lst_batt.extend(plus_batt)\n",
    "lst_body.extend(plus_body)\n",
    "lst_cam.extend(plus_cam)\n",
    "lst_func.extend(plus_func)\n",
    "lst_dis.extend(plus_dis)\n",
    "lst_proc.extend(plus_proc)\n",
    "lst_acc.extend(plus_acc)"
   ]
  },
  {
   "cell_type": "code",
   "execution_count": 10,
   "id": "a2cb0fd7",
   "metadata": {},
   "outputs": [],
   "source": [
    "hand_batt = list(set(lst_batt))\n",
    "hand_body = list(set(lst_body))\n",
    "hand_dis = list(set(lst_dis))\n",
    "hand_cam = list(set(lst_cam))\n",
    "hand_func = list(set(lst_func))\n",
    "hand_proc = list(set(lst_proc))\n",
    "hand_stor = list(set(lst_stor))\n",
    "hand_acc = list(set(lst_acc))\n",
    "hand_main = list(set(lst_main))\n",
    "hand_other = list(set(lst_other))"
   ]
  },
  {
   "cell_type": "code",
   "execution_count": 16,
   "id": "55989202",
   "metadata": {},
   "outputs": [
    {
     "name": "stdout",
     "output_type": "stream",
     "text": [
      "battery: 35\n",
      "body: 97\n",
      "display: 43\n",
      "camera: 57\n",
      "function: 84\n",
      "processor: 14\n",
      "storage: 20\n",
      "accessory: 63\n",
      "mainboard: 8\n",
      "\n",
      "수기로 라벨링한 속성의 개수: 421\n"
     ]
    }
   ],
   "source": [
    "print('battery:', len(hand_batt))\n",
    "print('body:', len(hand_body))\n",
    "print('display:', len(hand_dis))\n",
    "print('camera:', len(hand_cam))\n",
    "print('function:', len(hand_func))\n",
    "print('processor:', len(hand_proc))\n",
    "print('storage:', len(hand_stor))\n",
    "print('accessory:', len(hand_acc))\n",
    "print('mainboard:', len(hand_main))\n",
    "print('')\n",
    "print('수기로 라벨링한 속성의 개수:', len(hand_batt)+ len(hand_body)+\n",
    "      len(hand_dis)+ len(hand_cam)+ len(hand_func)+ len(hand_proc)+ \n",
    "      len(hand_stor)+ len(hand_acc)+ len(hand_main))"
   ]
  },
  {
   "cell_type": "code",
   "execution_count": 12,
   "id": "94d47134",
   "metadata": {},
   "outputs": [],
   "source": [
    "dic_final = {\n",
    "    'bat': lst_batt,\n",
    "    'body': lst_body,\n",
    "    'dis': lst_dis,\n",
    "    'cam': lst_cam,\n",
    "    'main': lst_main,\n",
    "    'proc': lst_proc,\n",
    "    'stor': lst_stor,\n",
    "    'func': lst_func,\n",
    "    'acc': lst_acc, \n",
    "    'other':lst_other\n",
    "}"
   ]
  },
  {
   "cell_type": "code",
   "execution_count": 86,
   "id": "458e44fa",
   "metadata": {},
   "outputs": [
    {
     "data": {
      "text/html": [
       "<div>\n",
       "<style scoped>\n",
       "    .dataframe tbody tr th:only-of-type {\n",
       "        vertical-align: middle;\n",
       "    }\n",
       "\n",
       "    .dataframe tbody tr th {\n",
       "        vertical-align: top;\n",
       "    }\n",
       "\n",
       "    .dataframe thead th {\n",
       "        text-align: right;\n",
       "    }\n",
       "</style>\n",
       "<table border=\"1\" class=\"dataframe\">\n",
       "  <thead>\n",
       "    <tr style=\"text-align: right;\">\n",
       "      <th></th>\n",
       "      <th>aspect</th>\n",
       "      <th>ori_aspect</th>\n",
       "      <th>pre_aspect</th>\n",
       "      <th>count</th>\n",
       "      <th>all_cnt</th>\n",
       "    </tr>\n",
       "  </thead>\n",
       "  <tbody>\n",
       "    <tr>\n",
       "      <th>0</th>\n",
       "      <td>phone</td>\n",
       "      <td>phone</td>\n",
       "      <td>phone</td>\n",
       "      <td>10667</td>\n",
       "      <td>10850</td>\n",
       "    </tr>\n",
       "    <tr>\n",
       "      <th>1</th>\n",
       "      <td>battery</td>\n",
       "      <td>battery</td>\n",
       "      <td>batteri</td>\n",
       "      <td>9048</td>\n",
       "      <td>9255</td>\n",
       "    </tr>\n",
       "    <tr>\n",
       "      <th>2</th>\n",
       "      <td>screen</td>\n",
       "      <td>screen</td>\n",
       "      <td>screen</td>\n",
       "      <td>5880</td>\n",
       "      <td>5956</td>\n",
       "    </tr>\n",
       "    <tr>\n",
       "      <th>3</th>\n",
       "      <td>works</td>\n",
       "      <td>works</td>\n",
       "      <td>work</td>\n",
       "      <td>5843</td>\n",
       "      <td>8067</td>\n",
       "    </tr>\n",
       "    <tr>\n",
       "      <th>4</th>\n",
       "      <td>iphone</td>\n",
       "      <td>iphone</td>\n",
       "      <td>iphon</td>\n",
       "      <td>4835</td>\n",
       "      <td>5024</td>\n",
       "    </tr>\n",
       "  </tbody>\n",
       "</table>\n",
       "</div>"
      ],
      "text/plain": [
       "    aspect ori_aspect pre_aspect  count  all_cnt\n",
       "0    phone      phone      phone  10667    10850\n",
       "1  battery    battery    batteri   9048     9255\n",
       "2   screen     screen     screen   5880     5956\n",
       "3    works      works       work   5843     8067\n",
       "4   iphone     iphone      iphon   4835     5024"
      ]
     },
     "execution_count": 86,
     "metadata": {},
     "output_type": "execute_result"
    }
   ],
   "source": [
    "df_dic = pd.read_csv('추출속성_데이터프레임.csv')\n",
    "df_dic = df_dic[df_dic['aspect']==df_dic['aspect']]\n",
    "df_dic.head()"
   ]
  },
  {
   "cell_type": "code",
   "execution_count": 87,
   "id": "35335751",
   "metadata": {},
   "outputs": [],
   "source": [
    "# 수기 라벨링한 속성 분류\n",
    "def sort_aspect(aspect):\n",
    "    found_in_list = np.nan\n",
    "    for list_name, my_list in dic_final.items():\n",
    "        if aspect in my_list:\n",
    "            found_in_list = list_name\n",
    "    return found_in_list"
   ]
  },
  {
   "cell_type": "code",
   "execution_count": 88,
   "id": "91465052",
   "metadata": {},
   "outputs": [],
   "source": [
    "df_dic['feature'] = np.nan\n",
    "df_dic['feature'] = df_dic['pre_aspect'].apply(sort_aspect)"
   ]
  },
  {
   "cell_type": "code",
   "execution_count": 89,
   "id": "85eacbe8",
   "metadata": {},
   "outputs": [],
   "source": [
    "dic_final = {}\n",
    "\n",
    "df_only = df_dic[df_dic['feature']=='bat']\n",
    "lst_combine = []\n",
    "for index, row in df_only.iterrows():\n",
    "    lst_combine.extend([row['aspect'], row['ori_aspect'], row['pre_aspect']])\n",
    "lst_combine = list(set(lst_combine))\n",
    "dic_final['bat'] = lst_combine\n",
    "\n",
    "df_only = df_dic[df_dic['feature']=='body']\n",
    "lst_combine = []\n",
    "for index, row in df_only.iterrows():\n",
    "    lst_combine.extend([row['aspect'], row['ori_aspect'], row['pre_aspect']])\n",
    "lst_combine = list(set(lst_combine))\n",
    "dic_final['body'] = lst_combine\n",
    "\n",
    "df_only = df_dic[df_dic['feature']=='dis']\n",
    "lst_combine = []\n",
    "for index, row in df_only.iterrows():\n",
    "    lst_combine.extend([row['aspect'], row['ori_aspect'], row['pre_aspect']])\n",
    "lst_combine = list(set(lst_combine))\n",
    "dic_final['dis'] = lst_combine\n",
    "\n",
    "df_only = df_dic[df_dic['feature']=='cam']\n",
    "lst_combine = []\n",
    "for index, row in df_only.iterrows():\n",
    "    lst_combine.extend([row['aspect'], row['ori_aspect'], row['pre_aspect']])\n",
    "lst_combine = list(set(lst_combine))\n",
    "dic_final['cam'] = lst_combine\n",
    "\n",
    "df_only = df_dic[df_dic['feature']=='main']\n",
    "lst_combine = []\n",
    "for index, row in df_only.iterrows():\n",
    "    lst_combine.extend([row['aspect'], row['ori_aspect'], row['pre_aspect']])\n",
    "lst_combine = list(set(lst_combine))\n",
    "dic_final['main'] = lst_combine\n",
    "\n",
    "df_only = df_dic[df_dic['feature']=='proc']\n",
    "lst_combine = []\n",
    "for index, row in df_only.iterrows():\n",
    "    lst_combine.extend([row['aspect'], row['ori_aspect'], row['pre_aspect']])\n",
    "lst_combine = list(set(lst_combine))\n",
    "dic_final['proc'] = lst_combine\n",
    "\n",
    "df_only = df_dic[df_dic['feature']=='stor']\n",
    "lst_combine = []\n",
    "for index, row in df_only.iterrows():\n",
    "    lst_combine.extend([row['aspect'], row['ori_aspect'], row['pre_aspect']])\n",
    "lst_combine = list(set(lst_combine))\n",
    "dic_final['stor'] = lst_combine\n",
    "\n",
    "df_only = df_dic[df_dic['feature']=='func']\n",
    "lst_combine = []\n",
    "for index, row in df_only.iterrows():\n",
    "    lst_combine.extend([row['aspect'], row['ori_aspect'], row['pre_aspect']])\n",
    "lst_combine = list(set(lst_combine))\n",
    "dic_final['func'] = lst_combine\n",
    "\n",
    "df_only = df_dic[df_dic['feature']=='acc']\n",
    "lst_combine = []\n",
    "for index, row in df_only.iterrows():\n",
    "    lst_combine.extend([row['aspect'], row['ori_aspect'], row['pre_aspect']])\n",
    "lst_combine = list(set(lst_combine))\n",
    "dic_final['acc'] = lst_combine\n",
    "\n",
    "df_only = df_dic[df_dic['feature']=='other']\n",
    "lst_combine = []\n",
    "for index, row in df_only.iterrows():\n",
    "    lst_combine.extend([row['aspect'], row['ori_aspect'], row['pre_aspect']])\n",
    "lst_combine = list(set(lst_combine))\n",
    "dic_final['other'] = lst_combine"
   ]
  },
  {
   "cell_type": "code",
   "execution_count": 90,
   "id": "2ebbfe0a",
   "metadata": {},
   "outputs": [],
   "source": [
    "reverse_dic_final = {value: key for key, values in dic_final.items() for value in values}"
   ]
  },
  {
   "cell_type": "markdown",
   "id": "d984d279",
   "metadata": {},
   "source": [
    "# 2. fasttext로 유사 속성 추가\n",
    "- fasttext : 단어 임베딩 모델\n",
    "    - 텍스트 데이터를 기반으로 단어들을 벡터로 표현하여 유사한 단어를 찾는 등 다양한 자연어 처리 작업에 사용될 수 있는 모델  \n",
    "- 사용 목적 \n",
    "    - 다수 출현된 속성 이외에도 단순 오타로 인해 분류되지 않거나 의미가 유사한 속성들을 추가로 분류하고자 사용\n",
    "- 처리 프로세스\n",
    "    1. 기존의 토큰화된 문장에서 합성어의 띄어쓰기를 '_'로 대체하여 토큰을 재구성\n",
    "    2. 수기 라벨링을 통해 분류되지 않은 (출현 횟수 5회 미만) 속서에 대해 fasttext로 유사도가 가장 높은 단어 추출  \n",
    "    3. 유사도가 가장 높은 단어가 이미 배정된 주요 속성이 있을 경우 해당 주요 속성으로 배정   \n",
    "        a. 유사도가 가장 높은 단어가 배정된 주요 속성이 없는 경우 해당 단어도 배정하지 않고 넘어감  \n",
    "        b. 해당 단어와 유사성이 높은 단어 간의 유사도가 0.8 미만인 경우에는 배정하지 않고 넘어감  \n",
    "        (0.8 미만일 경우 해당 단어와 추출된 단어간의 유사 신뢰도가 낮다고 판단)\n",
    "    4. 수기 라벨링을 진행하지 않은 출현 횟수 5회 미만의 속성에 대해 위의 과정을 반복  \n",
    "\n",
    "=> 1,2번 과정은 <2.2 속성 추출 및 전처리>에서 진행함.\n",
    "- [추가 설명] tokenized_data.txt \n",
    "    - 감성분석 과정에서 토큰화된 전체 리뷰를 텍스트 파일로 전환시킨 파일\n",
    "    - fasttext 모델 학습에 이용\n",
    "    - <추출된 속성 전처리 2.2>에서 생성된 텍스트 파일\n",
    "    \n",
    "- 장점 및 특징\n",
    "    - 맞춤법이나 오타로 잘못 쓰여진 단어들을 원래 의미의 속성으로 분류할 수 있음\n",
    "    - 명사뿐만 아니라 전치사구나 동사에도 유사한 단어를 찾고 속성을 분류할 수 있음  \n",
    "    ex: pic quality -> picture quality (camera)\n",
    "\n"
   ]
  },
  {
   "cell_type": "code",
   "execution_count": 46,
   "id": "3d17ecbe",
   "metadata": {
    "scrolled": true
   },
   "outputs": [
    {
     "name": "stderr",
     "output_type": "stream",
     "text": [
      "2023-09-10 03:22:09.218669: I tensorflow/core/common_runtime/pluggable_device/pluggable_device_factory.cc:303] Could not identify NUMA node of platform GPU ID 0, defaulting to 0. Your kernel may not have been built with NUMA support.\n",
      "2023-09-10 03:22:09.218699: I tensorflow/core/common_runtime/pluggable_device/pluggable_device_factory.cc:269] Created TensorFlow device (/job:localhost/replica:0/task:0/device:GPU:0 with 0 MB memory) -> physical PluggableDevice (device: 0, name: METAL, pci bus id: <undefined>)\n",
      "Read 4M words\n",
      "Number of words:  10730\n",
      "Number of labels: 0\n",
      "Progress: 100.0% words/sec/thread:   31415 lr:  0.000000 avg.loss:  2.304548 ETA:   0h 0m 0s\n"
     ]
    }
   ],
   "source": [
    "import fasttext\n",
    "with tf.device(device_name):\n",
    "    model = fasttext.train_unsupervised('tokenized_data.txt', epoch=10, dim=300, lr=0.1, wordNgrams=1, minCount=5)"
   ]
  },
  {
   "cell_type": "code",
   "execution_count": 91,
   "id": "56bf91ec",
   "metadata": {},
   "outputs": [],
   "source": [
    "# 처리 프로세스 참고\n",
    "def similar_process(ori_aspect, pre_aspect):\n",
    "    \n",
    "    if pd.isnull(ori_aspect):\n",
    "        return np.nan\n",
    "        \n",
    "    value = reverse_dic_final.get(pre_aspect)\n",
    "    \n",
    "    if pd.isnull(value):\n",
    "        simil_aspect = model.get_nearest_neighbors(ori_aspect)[0]\n",
    "        \n",
    "        if simil_aspect[0] > 0.80:\n",
    "            value = reverse_dic_final.get(simil_aspect[1], np.nan)\n",
    "    return value"
   ]
  },
  {
   "cell_type": "code",
   "execution_count": 92,
   "id": "8bfcb086",
   "metadata": {
    "scrolled": true
   },
   "outputs": [],
   "source": [
    "with tf.device(device_name):\n",
    "    df_dic['simil_feature'] = np.nan\n",
    "    df_dic['simil_feature'] = df_dic.apply(lambda row: similar_process(row['ori_aspect'], \n",
    "                                                                       row['pre_aspect']), axis=1)"
   ]
  },
  {
   "cell_type": "code",
   "execution_count": 93,
   "id": "4fd61dda",
   "metadata": {},
   "outputs": [],
   "source": [
    "df_dic = df_dic[df_dic['simil_feature']==df_dic['simil_feature']]"
   ]
  },
  {
   "cell_type": "code",
   "execution_count": 94,
   "id": "0e07ce30",
   "metadata": {},
   "outputs": [],
   "source": [
    "df_plus = pd.DataFrame({'aspect':['1 gb', '2 gb', '64 gb', '4 gb'], \n",
    "                        'ori_aspect':['1_gb', '2_gb', '64_gb', '4_gb'], \n",
    "                        'pre_aspect':['1_gb', '2_gb', '64_gb', '4_gb'], \n",
    "                        'count':[0,0,0,0],\n",
    "                        'all_cnt':[0,0,0,0], \n",
    "                        'feature':['proc', 'proc', 'stor', 'stor'], \n",
    "                        'simil_feature':['proc', 'proc', 'stor', 'stor']})\n",
    "\n",
    "df_dic = pd.concat([df_dic, df_plus]).reset_index(drop=True)"
   ]
  },
  {
   "cell_type": "code",
   "execution_count": 6,
   "id": "c9195792",
   "metadata": {},
   "outputs": [
    {
     "data": {
      "text/html": [
       "<div>\n",
       "<style scoped>\n",
       "    .dataframe tbody tr th:only-of-type {\n",
       "        vertical-align: middle;\n",
       "    }\n",
       "\n",
       "    .dataframe tbody tr th {\n",
       "        vertical-align: top;\n",
       "    }\n",
       "\n",
       "    .dataframe thead th {\n",
       "        text-align: right;\n",
       "    }\n",
       "</style>\n",
       "<table border=\"1\" class=\"dataframe\">\n",
       "  <thead>\n",
       "    <tr style=\"text-align: right;\">\n",
       "      <th></th>\n",
       "      <th>aspect</th>\n",
       "      <th>ori_aspect</th>\n",
       "      <th>pre_aspect</th>\n",
       "      <th>count</th>\n",
       "      <th>all_cnt</th>\n",
       "      <th>feature</th>\n",
       "      <th>simil_feature</th>\n",
       "    </tr>\n",
       "  </thead>\n",
       "  <tbody>\n",
       "    <tr>\n",
       "      <th>0</th>\n",
       "      <td>battery</td>\n",
       "      <td>battery</td>\n",
       "      <td>batteri</td>\n",
       "      <td>9048</td>\n",
       "      <td>9255</td>\n",
       "      <td>bat</td>\n",
       "      <td>bat</td>\n",
       "    </tr>\n",
       "    <tr>\n",
       "      <th>1</th>\n",
       "      <td>screen</td>\n",
       "      <td>screen</td>\n",
       "      <td>screen</td>\n",
       "      <td>5880</td>\n",
       "      <td>5956</td>\n",
       "      <td>dis</td>\n",
       "      <td>dis</td>\n",
       "    </tr>\n",
       "    <tr>\n",
       "      <th>2</th>\n",
       "      <td>battery life</td>\n",
       "      <td>battery_life</td>\n",
       "      <td>batteri_life</td>\n",
       "      <td>4111</td>\n",
       "      <td>4117</td>\n",
       "      <td>bat</td>\n",
       "      <td>bat</td>\n",
       "    </tr>\n",
       "  </tbody>\n",
       "</table>\n",
       "</div>"
      ],
      "text/plain": [
       "         aspect    ori_aspect    pre_aspect  count  all_cnt feature  \\\n",
       "0       battery       battery       batteri   9048     9255     bat   \n",
       "1        screen        screen        screen   5880     5956     dis   \n",
       "2  battery life  battery_life  batteri_life   4111     4117     bat   \n",
       "\n",
       "  simil_feature  \n",
       "0           bat  \n",
       "1           dis  \n",
       "2           bat  "
      ]
     },
     "execution_count": 6,
     "metadata": {},
     "output_type": "execute_result"
    },
    {
     "data": {
      "text/plain": [
       "(1680, 7)"
      ]
     },
     "execution_count": 6,
     "metadata": {},
     "output_type": "execute_result"
    }
   ],
   "source": [
    "df_dic.head(3)\n",
    "df_dic.shape"
   ]
  },
  {
   "cell_type": "markdown",
   "id": "86a7b2ab",
   "metadata": {},
   "source": [
    "- **추출된 총 단어 (aspect)의 개수** = 1,680개\n",
    "- **추출된 속성 정리 (열 설명)**  \n",
    "    - aspect : 실제 문장 내 속성 형태\n",
    "    - ori_aspect : 스테밍 없이 띄어쓰기 '_'로 대체\n",
    "    - pre_aspect : 스테밍, 전치사 제거까지 수행 (속성 사전에서 분류 속성으로 사용)\n",
    "    - count : aspect가 등장한 리뷰 수\n",
    "    - all_cnt : 전처리된 속성 (pre_aspect)이 등장한 리뷰 수 \n",
    "    - **feature** : 수기로 라벨링한 속성\n",
    "    - **simil_feature** : fasttext를 통해 유사 단어로 분류된 속성 \n",
    "    \n",
    "*all_cnt가 따로 있는 이유 : aspect가 달라도 pre_aspect가 똑같은 경우가 존재하기 때문에"
   ]
  },
  {
   "cell_type": "code",
   "execution_count": 79,
   "id": "05b788ba",
   "metadata": {
    "scrolled": true
   },
   "outputs": [
    {
     "name": "stdout",
     "output_type": "stream",
     "text": [
      "battery: 135\n",
      "body: 344\n",
      "display: 166\n",
      "camera: 132\n",
      "function: 273\n",
      "processor: 39\n",
      "storage: 66\n",
      "accessory: 332\n",
      "mainboard: 21\n",
      "\n",
      "최종 구축된 속성사전의 총 개수: 1508\n"
     ]
    }
   ],
   "source": [
    "print('battery:', df_dic[df_dic['simil_feature']=='bat'].shape[0])\n",
    "print('body:', df_dic[df_dic['simil_feature']=='body'].shape[0])\n",
    "print('display:', df_dic[df_dic['simil_feature']=='dis'].shape[0])\n",
    "print('camera:', df_dic[df_dic['simil_feature']=='cam'].shape[0])\n",
    "print('function:', df_dic[df_dic['simil_feature']=='func'].shape[0])\n",
    "print('processor:', df_dic[df_dic['simil_feature']=='proc'].shape[0])\n",
    "print('storage:', df_dic[df_dic['simil_feature']=='stor'].shape[0])\n",
    "print('accessory:', df_dic[df_dic['simil_feature']=='acc'].shape[0])\n",
    "print('mainboard:', df_dic[df_dic['simil_feature']=='main'].shape[0])\n",
    "print('')\n",
    "print('최종 구축된 속성사전의 총 개수:', df_dic[df_dic['simil_feature']!='other'].shape[0])"
   ]
  },
  {
   "cell_type": "code",
   "execution_count": 60,
   "id": "ce0df974",
   "metadata": {},
   "outputs": [],
   "source": [
    "import pickle\n",
    "file_name = '속성사전_데이터프레임.pkl'\n",
    "\n",
    "# 데이터를 pickle 파일로 저장\n",
    "with open(file_name, 'wb') as file:\n",
    "    pickle.dump(df_dic, file)\n",
    "\n",
    "df_dic.to_csv('속성사전_데이터프레임.csv', index=False)"
   ]
  }
 ],
 "metadata": {
  "kernelspec": {
   "display_name": "Python 3 (ipykernel)",
   "language": "python",
   "name": "python3"
  },
  "language_info": {
   "codemirror_mode": {
    "name": "ipython",
    "version": 3
   },
   "file_extension": ".py",
   "mimetype": "text/x-python",
   "name": "python",
   "nbconvert_exporter": "python",
   "pygments_lexer": "ipython3",
   "version": "3.10.9"
  },
  "toc": {
   "base_numbering": 1,
   "nav_menu": {
    "height": "130.998px",
    "width": "236.997px"
   },
   "number_sections": true,
   "sideBar": true,
   "skip_h1_title": false,
   "title_cell": "Table of Contents",
   "title_sidebar": "Contents",
   "toc_cell": false,
   "toc_position": {
    "height": "calc(100% - 180px)",
    "left": "10px",
    "top": "150px",
    "width": "280px"
   },
   "toc_section_display": true,
   "toc_window_display": false
  }
 },
 "nbformat": 4,
 "nbformat_minor": 5
}

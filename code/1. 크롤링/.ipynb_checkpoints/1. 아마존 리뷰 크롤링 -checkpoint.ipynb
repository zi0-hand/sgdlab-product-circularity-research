{
 "cells": [
  {
   "cell_type": "code",
   "execution_count": null,
   "id": "456d9daa",
   "metadata": {},
   "outputs": [],
   "source": [
    "!pip install selenium\n",
    "!apt-get update\n",
    "!apt install chromium-chromedriver"
   ]
  },
  {
   "cell_type": "code",
   "execution_count": null,
   "id": "255953b2",
   "metadata": {},
   "outputs": [],
   "source": [
    "import requests\n",
    "from bs4 import BeautifulSoup\n",
    "from datetime import datetime\n",
    "\n",
    "from selenium import webdriver\n",
    "from selenium.webdriver.chrome.service import Service"
   ]
  },
  {
   "cell_type": "code",
   "execution_count": null,
   "id": "7689d536",
   "metadata": {},
   "outputs": [],
   "source": [
    "ser = Service(r'C:\\Users\\keeho\\Amazon_webscrapping\\BeautifulSoup\\driver\\chromedriver.exe')\n",
    "op = webdriver.ChromeOptions()\n",
    "s = webdriver.Chrome(service=ser, options=op)"
   ]
  },
  {
   "cell_type": "code",
   "execution_count": null,
   "id": "bf91dc4e",
   "metadata": {},
   "outputs": [],
   "source": [
    "url = \"https://www.amazon.com/Apple-iPhone-XS-Fully-Unlocked/product-reviews/B07K4V35TJ/ref=cm_cr_arp_d_paging_btm_next_2?ie=UTF8&reviewerType=all_reviews&pageNumber=\"\n",
    "\n",
    "\n",
    "\n",
    "review = []\n",
    "num_page = 1\n",
    "\n",
    "data= {\n",
    "    'name' : [],\n",
    "    'detail' : [],\n",
    "    'rating' : [],\n",
    "    'title' : [],\n",
    "    'date' : [],\n",
    "    'context' : [],\n",
    "    'helpful' : []\n",
    "}\n",
    "\n",
    "\n",
    "\n",
    "while True:\n",
    "    current_url = url+str(num_page)\n",
    "    s.get(current_url)\n",
    "    html = s.page_source #selenium이 접근한 페이지 소스 넘겨받기\n",
    "    soup = BeautifulSoup(html,'html.parser')\n",
    "\n",
    "    num = len(soup.find_all('div', {'data-hook':\"review\"}))\n",
    "    for i in range (0,num):\n",
    "        tag = soup.find_all('div', {'data-hook':\"review\"})[i]\n",
    "\n",
    "        name = tag.find('span', class_=\"a-profile-name\")\n",
    "        detail = tag.find('a', {'data-hook':\"format-strip\"})\n",
    "\n",
    "        if tag.find('i', {'data-hook': 'review-star-rating'}):\n",
    "            rating = tag.find('i', {'data-hook': 'review-star-rating'})\n",
    "        else: # tag.find('i', {'data-hook': 'cmps-review-star-rating'}):\n",
    "            rating = tag.find('i', {'data-hook': 'cmps-review-star-rating'})\n",
    "\n",
    "        if tag.find('a', {'data-hook':\"review-title\"}):\n",
    "            title = tag.find('a', {'data-hook':\"review-title\"})\n",
    "        elif tag.find('span', {'class':\"cr-original-review-content\"}):\n",
    "            title = tag.find('span', {'class':\"cr-original-review-content\"})\n",
    "        else:\n",
    "            title = tag.find('span', {'data-hook':\"review-title\"})\n",
    "\n",
    "        date = tag.find('span', {'data-hook':\"review-date\"})\n",
    "        context = tag.find('span', {'data-hook':\"review-body\"})\n",
    "        helpful = tag.find('span', {'data-hook':\"helpful-vote-statement\"})\n",
    "\n",
    "        data['name'].append(name.get_text().strip() if name else np.nan)\n",
    "        data['detail'].append(detail.get_text().strip() if detail else np.nan)\n",
    "        data['rating'].append(rating.get_text().strip()) # if rating else 'N/A')\n",
    "        data['title'].append(title.get_text().strip() if title else np.nan)\n",
    "        data['date'].append(date.get_text().strip() if date else np.nan)\n",
    "        data['context'].append(context.get_text().strip()) # if context else 'N/A')\n",
    "        data['helpful'].append(helpful.get_text().strip() if helpful else np.nan)\n",
    "    print('###################')\n",
    "    print(len(data))\n",
    "    print([title.get_text().strip() if title else 'N/A'])\n",
    "\n",
    "\n",
    "\n",
    "    # 다음 페이지 여부 확인\n",
    "    next_page_element = soup.find_all('li', class_=\"a-disabled a-last\")\n",
    "    if next_page_element:\n",
    "        break\n",
    "    else:\n",
    "        num_page += 1"
   ]
  },
  {
   "cell_type": "code",
   "execution_count": null,
   "id": "b40fb42b",
   "metadata": {},
   "outputs": [],
   "source": [
    "df = pd.DataFrame(data)"
   ]
  }
 ],
 "metadata": {
  "kernelspec": {
   "display_name": "Python 3 (ipykernel)",
   "language": "python",
   "name": "python3"
  },
  "language_info": {
   "codemirror_mode": {
    "name": "ipython",
    "version": 3
   },
   "file_extension": ".py",
   "mimetype": "text/x-python",
   "name": "python",
   "nbconvert_exporter": "python",
   "pygments_lexer": "ipython3",
   "version": "3.10.9"
  }
 },
 "nbformat": 4,
 "nbformat_minor": 5
}
